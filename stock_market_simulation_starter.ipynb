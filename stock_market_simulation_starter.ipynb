{
  "nbformat": 4,
  "nbformat_minor": 0,
  "metadata": {
    "colab": {
      "private_outputs": true,
      "provenance": [],
      "authorship_tag": "ABX9TyMlpQ5uWqiwdXKdXjBeyMjb",
      "include_colab_link": true
    },
    "kernelspec": {
      "name": "python3",
      "display_name": "Python 3"
    },
    "language_info": {
      "name": "python"
    }
  },
  "cells": [
    {
      "cell_type": "markdown",
      "metadata": {
        "id": "view-in-github",
        "colab_type": "text"
      },
      "source": [
        "<a href=\"https://colab.research.google.com/github/teaching-repositories/simulacra-starters/blob/main/stock_market_simulation_starter.ipynb\" target=\"_parent\"><img src=\"https://colab.research.google.com/assets/colab-badge.svg\" alt=\"Open In Colab\"/></a>"
      ]
    },
    {
      "cell_type": "markdown",
      "source": [
        "### Stock Market Simulation Starter\n",
        "\n",
        "Welcome to this interactive Google Colab notebook designed to assist you with your assignment on data analysis and visualisation within the framework of a stock market simulation. This notebook serves as both a practical guide and a starting point for exploring how specific events can influence stock market trends.\n",
        "\n",
        "In this notebook, you will:\n",
        "\n",
        "1. **Run a Stock Market Simulation**: Utilise the `StockMarketSimulation` class, provided within this notebook, to generate simulated stock prices over a set period. This class allows you to experiment with various parameters such as the initial stock price, market volatility, drift, and the impact of significant market events.\n",
        "\n",
        "2. **Visualise the Results**: You will use the `plot_prices` function to graph the simulated stock prices. This function includes an option to mark a significant market event on the plot, providing a visual representation of its effect on stock prices.\n",
        "\n",
        "**Objectives**:\n",
        "- Analyse how different market parameters influence stock prices.\n",
        "- Develop practical skills in generating and interpreting sophisticated data visualisations.\n",
        "- Enhance your Python programming capabilities, focusing on data visualisation libraries such as Matplotlib.\n",
        "\n",
        "**Using Google Colab**:\n",
        "- Google Colab provides a powerful, cloud-based environment to run Python code. It allows you to execute the notebook without any setup on your local machine.\n",
        "- Make sure to save a copy of this notebook in your Google Drive to retain your modifications and results.\n",
        "\n",
        "**Preparation**:\n",
        "- Before you begin, familiarise yourself with the basic features of Google Colab if you haven't used it before.\n",
        "- Review the code snippets and accompanying documentation in this notebook to understand how the simulation and plotting functions operate.\n",
        "\n",
        "This notebook is designed to be interactive and instructional, helping you grasp the complexities of financial market simulations and the visualisation of dynamic data sets. By the end of this exercise, you will have gained valuable insights into quantitative modeling and the statistical tools used in financial analysis. Let's get started and explore the impact of market dynamics through simulation."
      ],
      "metadata": {
        "id": "2ZACzFrFPglO"
      }
    },
    {
      "cell_type": "code",
      "execution_count": null,
      "metadata": {
        "id": "37NCcMfpNdQk"
      },
      "outputs": [],
      "source": [
        "!pip install git+https://github.com/teaching-repositories/simulacra.git -q"
      ]
    },
    {
      "cell_type": "code",
      "source": [
        "from simulacra.stock_market_simulation import StockMarketSimulation\n",
        "import matplotlib.pyplot as plt"
      ],
      "metadata": {
        "id": "PUD3NkoROLzO"
      },
      "execution_count": null,
      "outputs": []
    },
    {
      "cell_type": "code",
      "source": [
        "def plot_prices(prices, event_day=None):\n",
        "    \"\"\"\n",
        "    Plots the stock prices from a simulation with an optional vertical line marking a major market event.\n",
        "\n",
        "    Parameters:\n",
        "        prices (List[float]): A list of stock prices to be plotted.\n",
        "        event_day (Optional[int]): The day on which the major market event occurs (defaults to None).\n",
        "\n",
        "    Returns:\n",
        "        None\n",
        "    \"\"\"\n",
        "    plt.figure(figsize=(10, 6))\n",
        "    plt.plot(prices, label='Stock Price')\n",
        "    if event_day is not None:\n",
        "        plt.axvline(x=event_day, color='red', linestyle='--', label='Major Market Event')\n",
        "    plt.xlabel('Days')\n",
        "    plt.ylabel('Price ($)')\n",
        "    plt.title('Stock Market Simulation')\n",
        "    plt.legend()\n",
        "    plt.show()\n"
      ],
      "metadata": {
        "id": "f1g6Dwp9N4Im"
      },
      "execution_count": null,
      "outputs": []
    },
    {
      "cell_type": "code",
      "source": [
        "sim = StockMarketSimulation(start_price=100, days=365, volatility=0.03,\n",
        "                                drift=-0.001, event_day=100, event_impact=-0.2)\n",
        "prices = sim.run_simulation()\n",
        "plot_prices(prices, sim.event_day)"
      ],
      "metadata": {
        "id": "3wdp7N4-O9FJ"
      },
      "execution_count": null,
      "outputs": []
    }
  ]
}