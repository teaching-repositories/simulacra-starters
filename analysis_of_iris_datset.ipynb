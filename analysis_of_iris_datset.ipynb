{
  "nbformat": 4,
  "nbformat_minor": 0,
  "metadata": {
    "colab": {
      "private_outputs": true,
      "provenance": [],
      "authorship_tag": "ABX9TyMzArVm8ER6YytuntdnqlGE",
      "include_colab_link": true
    },
    "kernelspec": {
      "name": "python3",
      "display_name": "Python 3"
    },
    "language_info": {
      "name": "python"
    }
  },
  "cells": [
    {
      "cell_type": "markdown",
      "metadata": {
        "id": "view-in-github",
        "colab_type": "text"
      },
      "source": [
        "<a href=\"https://colab.research.google.com/github/teaching-repositories/simulacra-starters/blob/main/analysis_of_iris_datset.ipynb\" target=\"_parent\"><img src=\"https://colab.research.google.com/assets/colab-badge.svg\" alt=\"Open In Colab\"/></a>"
      ]
    },
    {
      "cell_type": "markdown",
      "source": [
        "# Analysis of the Iris Dataset\n",
        "\n",
        "## Introduction\n",
        "The Iris dataset is a classic dataset from the field of machine learning and statistics. It is widely used for the purpose of pattern recognition and predictive modeling. This report aims to explore the dataset thoroughly through visualizations and statistical analysis to uncover insights into the different species of Iris flowers.\n",
        "\n",
        "## Literature Review\n",
        "The Iris dataset was introduced by Ronald Fisher in 1936 as an example of discriminant analysis. The dataset consists of 150 records of Iris flowers from three different species: Iris Setosa, Iris Versicolour, and Iris Virginica. Each record has four features: sepal length, sepal width, petal length, and petal width.\n",
        "\n",
        "## Methodology\n",
        "We will use Python along with libraries such as Pandas for data manipulation, Matplotlib and Seaborn for data visualization. The data will be loaded into a Pandas DataFrame, followed by descriptive statistics and visualizations.\n",
        "\n",
        "## Results\n",
        "\n",
        "\n"
      ],
      "metadata": {
        "id": "D8-4IOF_RHYS"
      }
    },
    {
      "cell_type": "code",
      "source": [
        "# Import necessary libraries\n",
        "import pandas as pd\n",
        "import seaborn as sns\n",
        "import matplotlib.pyplot as plt\n",
        "\n",
        "# Load the Iris dataset\n",
        "url = \"https://archive.ics.uci.edu/ml/machine-learning-databases/iris/iris.data\"\n",
        "columns = ['sepal_length', 'sepal_width', 'petal_length', 'petal_width', 'species']\n",
        "iris = pd.read_csv(url, names=columns)\n",
        "\n",
        "# @title Frist 5 Rows of Data\n",
        "iris.head()"
      ],
      "metadata": {
        "cellView": "form",
        "id": "k_0UO0dmRLiY"
      },
      "execution_count": null,
      "outputs": []
    },
    {
      "cell_type": "code",
      "source": [
        "# @title Descriptive statistics\n",
        "print(iris.describe())"
      ],
      "metadata": {
        "cellView": "form",
        "id": "Dprd_fgVUcsF"
      },
      "execution_count": null,
      "outputs": []
    },
    {
      "cell_type": "code",
      "source": [
        "# @title Data Visualisation\n",
        "# Pairplot to visualize the relationships between features\n",
        "sns.pairplot(iris, hue='species', height=1, aspect=1)\n",
        "plt.show()\n",
        "\n",
        "# Boxplot for each feature split out by species\n",
        "plt.figure(figsize=(6,4))\n",
        "sns.boxplot(data=iris, x='species', y='petal_length')\n",
        "plt.title('Petal Length by Species')\n",
        "plt.show()\n"
      ],
      "metadata": {
        "cellView": "form",
        "id": "ONV-fYNCSXuQ"
      },
      "execution_count": null,
      "outputs": []
    },
    {
      "cell_type": "markdown",
      "source": [
        "## Conclusion\n",
        "\n",
        "In this report, we explored the Iris dataset using various statistical tools and visualization techniques. The visualizations particularly helped in understanding the distinct characteristics of each Iris species. Further analysis could involve machine learning models to predict the species of Iris based on the features provided."
      ],
      "metadata": {
        "id": "DHFnjVmUSsng"
      }
    }
  ]
}