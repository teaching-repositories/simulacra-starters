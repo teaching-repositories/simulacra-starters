{
  "nbformat": 4,
  "nbformat_minor": 0,
  "metadata": {
    "colab": {
      "private_outputs": true,
      "provenance": [],
      "authorship_tag": "ABX9TyNMcTXWyh5nv2bcq81TzuXv",
      "include_colab_link": true
    },
    "kernelspec": {
      "name": "python3",
      "display_name": "Python 3"
    },
    "language_info": {
      "name": "python"
    }
  },
  "cells": [
    {
      "cell_type": "markdown",
      "metadata": {
        "id": "view-in-github",
        "colab_type": "text"
      },
      "source": [
        "<a href=\"https://colab.research.google.com/github/teaching-repositories/simulacra-starters/blob/main/resource_flucuations_simulation_starter.ipynb\" target=\"_parent\"><img src=\"https://colab.research.google.com/assets/colab-badge.svg\" alt=\"Open In Colab\"/></a>"
      ]
    },
    {
      "cell_type": "markdown",
      "source": [
        ">*The outline below is provided below is designed to guide you effectively through the simulation, analysis, and evaluation processes. Feel free to adapt this suggested structure by adding or removing sections to best communicate your findings.*\n",
        "\n",
        "## Title, Author, Introduction\n",
        "\n",
        "This notebook serves as an interactive report to simulate and analyze the fluctuations in resource prices. It aims to provide a deeper understanding of market dynamics, the impact of supply disruptions, and potential hedging strategies for businesses dealing with critical resources.\n",
        "\n",
        "## Simulation Overview\n",
        "\n",
        "Restate the purpose and what this notebook demonstrates.  Include a detailed explanation of each parameter used in the simulation with practical examples.\n",
        "\n",
        "\n",
        "### Baseline Simulation\n",
        "\n",
        "In this section we want to understand and visualise the fluctuations without the supply disruption day event.\n",
        "\n",
        "First we need to install necessary packages.\n",
        "\n",
        "\n"
      ],
      "metadata": {
        "id": "YVXcaPQVoGvX"
      }
    },
    {
      "cell_type": "code",
      "execution_count": null,
      "metadata": {
        "id": "yLciWoraSagH"
      },
      "outputs": [],
      "source": [
        "!pip install git+https://github.com/teaching-repositories/simulacra.git -q"
      ]
    },
    {
      "cell_type": "markdown",
      "source": [
        "We need to\n",
        "  - **Import the necessary libraries**: Code cells to import libraries (like `matplotlib` for plotting and any other libraries needed).\n",
        "  - **Run the Simulation**: Code to run the simulation with zero disruption impact.\n",
        "  - **Visualise the Results**: Plotting prices over time to establish a baseline."
      ],
      "metadata": {
        "id": "BbWt8I6XqQpV"
      }
    },
    {
      "cell_type": "code",
      "source": [
        "from simulacra import ResourceFluctuationsSimulation\n",
        "import matplotlib.pyplot as plt\n",
        "\n",
        "\n",
        "# Helper function to display the plot\n",
        "def plot_prices(prices, supply_disruption_day=None):\n",
        "    \"\"\"\n",
        "    Plots the prices from a simulation with an optional vertical line marking a supply disruption.\n",
        "\n",
        "    Parameters:\n",
        "        prices (List[float]): A list of prices to be plotted.\n",
        "        supply_disruption_day (Optional[int]): The day on which the supply disruption occurs (defaults to None).\n",
        "\n",
        "    Returns:\n",
        "        None\n",
        "    \"\"\"\n",
        "    plt.figure(figsize=(10, 6))\n",
        "    plt.plot(prices, label='Resource Price')\n",
        "    if supply_disruption_day is not None:\n",
        "        plt.axvline(x=supply_disruption_day, color='r', linestyle='--', label='Supply Disruption')\n",
        "    plt.xlabel('Days')\n",
        "    plt.ylabel('Price')\n",
        "    plt.title('Resource Price Simulation')\n",
        "    plt.legend()\n",
        "    plt.show()\n",
        "\n",
        "# Setup the simulation\n",
        "sim = ResourceFluctuationsSimulation(start_price=100, days=250, volatility=0.015,\n",
        "                             drift=0.0003, supply_disruption_day=100, disruption_severity=0.3)\n",
        "\n",
        "# Run the simulation\n",
        "prices = sim.run_simulation()\n",
        "\n",
        "# Visualise the results\n",
        "plot_prices(prices, sim.supply_disruption_day)"
      ],
      "metadata": {
        "id": "xk-CtCQmTJN7"
      },
      "execution_count": null,
      "outputs": []
    },
    {
      "cell_type": "markdown",
      "source": [
        "### Impact of Volatility on Price Stability\n",
        "Analyze how different volatility settings affect the stability and predictability of resource prices. Discuss the observed trends and implications.\n"
      ],
      "metadata": {
        "id": "fHy0kE7wr8qk"
      }
    },
    {
      "cell_type": "code",
      "source": [
        "# Code for volatility on price stability"
      ],
      "metadata": {
        "id": "q33eoWmcsANx"
      },
      "execution_count": null,
      "outputs": []
    },
    {
      "cell_type": "markdown",
      "source": [
        "### Analyzing the Impact of a Supply Disruption\n",
        "In this section, model the effects of a supply disruption on resource pricing and market stability. Include code to set up different scenarios with varying supply disruption. Use markers or lines to denote disruption start and assess impact. Overlay plots or perform a Side-by-side comparison to show different impacts of supply disruption.  Discuss the observed trends and implicaitons."
      ],
      "metadata": {
        "id": "NbTNoTDpsQv1"
      }
    },
    {
      "cell_type": "code",
      "source": [
        "# Code to set up different disruption severities and visualise their impacts"
      ],
      "metadata": {
        "id": "l77hSsTwsUS4"
      },
      "execution_count": null,
      "outputs": []
    },
    {
      "cell_type": "markdown",
      "source": [
        "### Exploring Hedging Strategies (Optional)\n",
        "In this section, evaluate the effectiveness of different hedging strategies to mitigate risks associated with price fluctuations.  Set up various hypothetical scenarios with assumed prices and effects. Use graphs to show strategy effectiveness versus cost."
      ],
      "metadata": {
        "id": "Me8lcmt6sjsx"
      }
    },
    {
      "cell_type": "code",
      "source": [
        "# Code to simulate and compare different hedging strategies"
      ],
      "metadata": {
        "id": "SnVHo5owsmXL"
      },
      "execution_count": null,
      "outputs": []
    },
    {
      "cell_type": "markdown",
      "source": [
        "### Conclusions\n",
        "Summarise the insights gained from the simulations, implications for businesses, and potential strategies for managing pricing risks in volatile markets.\n",
        "\n",
        "### Challenges and Further Research\n",
        "Discuss any limitations encountered during the simulations and suggest areas for further exploration or improvement in future studies.\n",
        "\n",
        "### References and Additional Resources\n",
        "Any sources used for data or concepts."
      ],
      "metadata": {
        "id": "74HeX4kbqGh6"
      }
    }
  ]
}