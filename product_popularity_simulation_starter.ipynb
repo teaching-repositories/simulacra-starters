{
  "nbformat": 4,
  "nbformat_minor": 0,
  "metadata": {
    "colab": {
      "private_outputs": true,
      "provenance": [],
      "include_colab_link": true
    },
    "kernelspec": {
      "name": "python3",
      "display_name": "Python 3"
    },
    "language_info": {
      "name": "python"
    }
  },
  "cells": [
    {
      "cell_type": "markdown",
      "metadata": {
        "id": "view-in-github",
        "colab_type": "text"
      },
      "source": [
        "<a href=\"https://colab.research.google.com/github/teaching-repositories/simulacra-starters/blob/main/product_popularity_simulation_starter.ipynb\" target=\"_parent\"><img src=\"https://colab.research.google.com/assets/colab-badge.svg\" alt=\"Open In Colab\"/></a>"
      ]
    },
    {
      "cell_type": "markdown",
      "source": [
        "\n",
        "# Product Popularity Simulation\n",
        "\n",
        "For the 'Product Popularity Simulation' assignment, we recommend an interactive and narrative-driven approach in your notebook/report. The outline provided below is designed to guide you effectively through the simulation, analysis, and evaluation processes. Feel free to adapt this suggested structure by adding or removing sections to best communicate your findings.\n",
        "\n",
        "## Title and Introduction\n",
        "   - **Title**: Include the assignment title, course name, and subtitle.\n",
        "   - **Introduction**: Brief introduction about the purpose of the simulation and what will be covered in the notebook.\n"
      ],
      "metadata": {
        "id": "uWDO64Y7L4G7"
      }
    },
    {
      "cell_type": "markdown",
      "source": [
        "\n",
        "## Simulation Overview\n",
        "   - **Purpose of the Simulation**: Reinstate the purpose and what students are expected to learn or demonstrate.\n",
        "   - **Simulation Parameters Explained**: A detailed explanation of each parameter used in the simulation with practical examples.\n"
      ],
      "metadata": {
        "id": "2JAhA49pL4Cc"
      }
    },
    {
      "cell_type": "markdown",
      "source": [
        "\n",
        "## Setup for Simulation\n",
        "   - **Importing Necessary Libraries**: Code cells to import libraries (like `matplotlib` for plotting and any other libraries needed).\n",
        "   - **Initializing the Simulation**: Code to initialize the `ProductPopularitySimulation` with placeholders for parameters.\n",
        "\n"
      ],
      "metadata": {
        "id": "0jeF1-OPL396"
      }
    },
    {
      "cell_type": "code",
      "execution_count": null,
      "metadata": {
        "id": "yLciWoraSagH"
      },
      "outputs": [],
      "source": [
        "# Install the simulation package\n",
        "!pip install git+https://github.com/teaching-repositories/simulacra.git -q"
      ]
    },
    {
      "cell_type": "markdown",
      "source": [
        "## Baseline Simulation\n",
        "   - **Objective**: Understand and visualize the natural growth without marketing efforts.\n",
        "   - **Running the Simulation**: Code to run the simulation with zero marketing impact.\n",
        "   - **Visualizing the Results**: Plotting demand over time to establish a baseline."
      ],
      "metadata": {
        "id": "Mjebh7YoL34F"
      }
    },
    {
      "cell_type": "code",
      "source": [
        "from simulacra import ProductPopularitySimulation\n",
        "import matplotlib.pyplot as plt\n",
        "\n",
        "# Create a helper function\n",
        "def plot_demand(demand, promotion_day=None):\n",
        "    \"\"\"\n",
        "    Plots the demand simulation data with an optional marker for a marketing campaign.\n",
        "\n",
        "    Parameters:\n",
        "        demand (List[int]): A list of demand values to plot.\n",
        "        promotion_day (Optional[int]): The day a marketing campaign starts, marked on the plot.\n",
        "    \"\"\"\n",
        "    plt.figure(figsize=(10, 6))\n",
        "    plt.plot(demand, label='Product Demand')\n",
        "    if promotion_day is not None:\n",
        "        plt.axvline(x=promotion_day, color='blue', linestyle='--', label='Marketing Campaign Start')\n",
        "    plt.xlabel('Days')\n",
        "    plt.ylabel('Demand Units')\n",
        "    plt.title('Product Popularity Simulation')\n",
        "    plt.legend()\n",
        "    plt.show()\n",
        "\n",
        "# Setup the simulation\n",
        "sim = ProductPopularitySimulation(start_demand=500, days=180, growth_rate=0.02,\n",
        "                                      marketing_impact=0.1, promotion_day=30, promotion_effectiveness=0.5)\n",
        "\n",
        "# Run the simulation\n",
        "demand = sim.run_simulation()\n",
        "\n",
        "\n",
        "# Visualise the results\n",
        "plot_demand(demand, sim.promotion_day)"
      ],
      "metadata": {
        "id": "xk-CtCQmTJN7"
      },
      "execution_count": null,
      "outputs": []
    },
    {
      "cell_type": "markdown",
      "source": [
        "## Impact of Growth Rate and Marketing\n",
        "   - **Objective**: Examine how different growth rates and marketing impacts affect demand.\n",
        "   - **Interactive Widgets**: Using interactive widgets to allow adjustment of growth rate and marketing impact.\n",
        "   - **Visualization**: Dynamic plots showing the impact of changes in parameters.\n",
        "   - **Analysis**: Discuss the observed trends and implications.\n"
      ],
      "metadata": {
        "id": "OnGJc7psPlzM"
      }
    },
    {
      "cell_type": "markdown",
      "source": [
        "\n",
        "## Marketing Campaign Analysis\n",
        "   - **Objective**: Analyze the effect of a major marketing campaign.\n",
        "   - **Scenario Setup**: Code to set up different scenarios with varying campaign effectiveness.\n",
        "   - **Visualization and Annotation**: Use markers or lines to denote campaign start and assess impact.\n",
        "   - **Comparative Analysis**: Side-by-side comparison or overlaid plots to show different campaign effects.\n"
      ],
      "metadata": {
        "id": "Re3VZPTrPp6V"
      }
    },
    {
      "cell_type": "markdown",
      "source": [
        "\n",
        "## Advanced Marketing Strategies\n",
        "   - **Objective**: Explore and compare the effectiveness of different marketing strategies.\n",
        "   - **Strategy Setup and Simulation**: Setting up various hypothetical scenarios with assumed costs and effects.\n",
        "   - **ROI Calculation**: Code to calculate and compare ROI based on increased demand and strategy costs.\n",
        "   - **Visualization**: Graphs to show strategy effectiveness versus cost.\n"
      ],
      "metadata": {
        "id": "cjnjcVfDPtHX"
      }
    },
    {
      "cell_type": "markdown",
      "source": [
        "## Conclusions\n",
        "   - **Summary of Findings**: Recap the key insights and learnings from the simulations.\n",
        "   - **Implications for Marketers**: Discuss how these findings could be applied in real-world marketing.\n",
        "\n"
      ],
      "metadata": {
        "id": "LFQL88a_L3wr"
      }
    },
    {
      "cell_type": "markdown",
      "source": [
        "## Challenges and Future Work\n",
        "   - **Potential Issues**: Discuss any limitations or challenges encountered during the simulations.\n",
        "   - **Suggestions for Further Exploration**: Ideas for extending this project or additional parameters to investigate.\n",
        "\n"
      ],
      "metadata": {
        "id": "e__L4XMVL3oh"
      }
    },
    {
      "cell_type": "markdown",
      "source": [
        "## References and Additional Resources\n",
        "   - **Citations**: Any sources used for data or concepts.\n",
        "   - **Further Reading**: Links or references to additional materials for deeper understanding.\n"
      ],
      "metadata": {
        "id": "0GIihpk0L3dc"
      }
    }
  ]
}