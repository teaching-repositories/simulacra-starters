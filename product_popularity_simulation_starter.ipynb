{
  "nbformat": 4,
  "nbformat_minor": 0,
  "metadata": {
    "colab": {
      "private_outputs": true,
      "provenance": [],
      "include_colab_link": true
    },
    "kernelspec": {
      "name": "python3",
      "display_name": "Python 3"
    },
    "language_info": {
      "name": "python"
    }
  },
  "cells": [
    {
      "cell_type": "markdown",
      "metadata": {
        "id": "view-in-github",
        "colab_type": "text"
      },
      "source": [
        "<a href=\"https://colab.research.google.com/github/teaching-repositories/simulacra-starters/blob/main/product_popularity_simulation_starter.ipynb\" target=\"_parent\"><img src=\"https://colab.research.google.com/assets/colab-badge.svg\" alt=\"Open In Colab\"/></a>"
      ]
    },
    {
      "cell_type": "markdown",
      "source": [
        "\n",
        ">*The outline below is provided below is designed to guide you effectively through the simulation, analysis, and evaluation processes. Feel free to adapt this suggested structure by adding or removing sections to best communicate your findings.*\n",
        "\n",
        "## Title, Author, and Introduction\n",
        "\n",
        "This notebook serves as an interactive report to simulate and analyze the popularity of products in the market place. It aims to provide a deeper understanding of market dynamics, the impact of marketing campgain, and potential marketing strategies for businesses dealing with products.\n",
        "\n",
        "## Simulation Overview\n",
        "\n",
        "Restate the purpose and what this notebook demonstrates.  Include a detailed explanation of each parameter used in the simulation with practical examples.\n",
        "\n",
        "\n",
        "## Baseline Simulation\n",
        "\n",
        "In this section we want to understand and visualise the popularity without the marketing day event event.\n",
        "\n",
        "First we need to install necessary packages.\n"
      ],
      "metadata": {
        "id": "uWDO64Y7L4G7"
      }
    },
    {
      "cell_type": "code",
      "execution_count": null,
      "metadata": {
        "id": "yLciWoraSagH"
      },
      "outputs": [],
      "source": [
        "# Install the simulation package\n",
        "!pip install git+https://github.com/teaching-repositories/simulacra.git -q"
      ]
    },
    {
      "cell_type": "markdown",
      "source": [
        "We need to\n",
        "  - **Import the necessary libraries**: Code cells to import libraries (like `matplotlib` for plotting and any other libraries needed).\n",
        "  - **Running the Simulation**: Code to run the simulation with zero marketing  impact.\n",
        "  - **Visualising the Results**: Plotting demand over time to establish a baseline."
      ],
      "metadata": {
        "id": "Mjebh7YoL34F"
      }
    },
    {
      "cell_type": "code",
      "source": [
        "from simulacra import ProductPopularitySimulation\n",
        "import matplotlib.pyplot as plt\n",
        "\n",
        "# Create a helper function\n",
        "def plot_demand(demand, promotion_day=None):\n",
        "    \"\"\"\n",
        "    Plots the demand simulation data with an optional marker for a marketing campaign.\n",
        "\n",
        "    Parameters:\n",
        "        demand (List[int]): A list of demand values to plot.\n",
        "        promotion_day (Optional[int]): The day a marketing campaign starts, marked on the plot.\n",
        "    \"\"\"\n",
        "    plt.figure(figsize=(10, 6))\n",
        "    plt.plot(demand, label='Product Demand')\n",
        "    if promotion_day is not None:\n",
        "        plt.axvline(x=promotion_day, color='blue', linestyle='--', label='Marketing Campaign Start')\n",
        "    plt.xlabel('Days')\n",
        "    plt.ylabel('Demand Units')\n",
        "    plt.title('Product Popularity Simulation')\n",
        "    plt.legend()\n",
        "    plt.show()\n",
        "\n",
        "# Setup the simulation\n",
        "sim = ProductPopularitySimulation(start_demand=500, days=180, growth_rate=0.02,\n",
        "                                      marketing_impact=0.1, promotion_day=30, promotion_effectiveness=0.5)\n",
        "\n",
        "# Run the simulation\n",
        "demand = sim.run_simulation()\n",
        "\n",
        "\n",
        "# Visualise the results\n",
        "plot_demand(demand, sim.promotion_day)"
      ],
      "metadata": {
        "id": "xk-CtCQmTJN7"
      },
      "execution_count": null,
      "outputs": []
    },
    {
      "cell_type": "markdown",
      "source": [
        "## Impact of Growth Rate and Marketing\n",
        "\n",
        "Examine how different growth rates and marketing impacts affect demand. Discuss the observed trends and implications.\n"
      ],
      "metadata": {
        "id": "OnGJc7psPlzM"
      }
    },
    {
      "cell_type": "code",
      "source": [
        "# Code for growth rate and marketing"
      ],
      "metadata": {
        "id": "jp7cvL_rwTwp"
      },
      "execution_count": null,
      "outputs": []
    },
    {
      "cell_type": "markdown",
      "source": [
        "\n",
        "## Marketing Campaign Analysis\n",
        "\n",
        "Analyze the effect of a major marketing campaign.  Include code to set up different scenarios with varying campaign effectiveness. Use markers or lines to denote campaign start and assess impact. Overlay plots or perform a Side-by-side comparison to show different campaign effects.\n"
      ],
      "metadata": {
        "id": "Re3VZPTrPp6V"
      }
    },
    {
      "cell_type": "code",
      "source": [
        "# Code for marketing campaign"
      ],
      "metadata": {
        "id": "OWyc6yK8wsSa"
      },
      "execution_count": null,
      "outputs": []
    },
    {
      "cell_type": "markdown",
      "source": [
        "\n",
        "## Advanced Marketing Strategies (Optional)\n",
        "\n",
        "Explore and compare the effectiveness of different marketing strategies. Set up various hypothetical scenarios with assumed costs and effects. Code to calculate and compare ROI based on increased demand and strategy costs.\n",
        "Use graphs to show strategy effectiveness versus cost.\n"
      ],
      "metadata": {
        "id": "cjnjcVfDPtHX"
      }
    },
    {
      "cell_type": "code",
      "source": [
        "# Code for advanced marketing strategies"
      ],
      "metadata": {
        "id": "mJ0LMNK0wzOJ"
      },
      "execution_count": null,
      "outputs": []
    },
    {
      "cell_type": "markdown",
      "source": [
        "## Conclusions\n",
        "Summarise the insights gained from the simulations, implications for businesses, and potential strategies for managing pricing price flucations in volatile markets.\n",
        "\n",
        "## Challenges and Further Research\n",
        "Discuss any limitations encountered during the simulations and suggest areas for further exploration or improvement in future studies.\n",
        "\n",
        "## References and Additional Resources\n",
        "Any sources used for data or concepts."
      ],
      "metadata": {
        "id": "4mltezShzq6b"
      }
    }
  ]
}