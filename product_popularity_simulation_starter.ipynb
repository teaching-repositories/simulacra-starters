{
  "nbformat": 4,
  "nbformat_minor": 0,
  "metadata": {
    "colab": {
      "private_outputs": true,
      "provenance": [],
      "authorship_tag": "ABX9TyPLJu9jPyfNDy06OaqbKUrx",
      "include_colab_link": true
    },
    "kernelspec": {
      "name": "python3",
      "display_name": "Python 3"
    },
    "language_info": {
      "name": "python"
    }
  },
  "cells": [
    {
      "cell_type": "markdown",
      "metadata": {
        "id": "view-in-github",
        "colab_type": "text"
      },
      "source": [
        "<a href=\"https://colab.research.google.com/github/teaching-repositories/simulacra-starters/blob/main/product_popularity_simulation_starter.ipynb\" target=\"_parent\"><img src=\"https://colab.research.google.com/assets/colab-badge.svg\" alt=\"Open In Colab\"/></a>"
      ]
    },
    {
      "cell_type": "markdown",
      "source": [
        "### Product Popularity Simulation Starter\n",
        "\n",
        "Welcome to this interactive Google Colab notebook designed to assist you with your assignment on data analysis and visualisation using the `ProductPopularitySimulation`. This notebook serves as both an instructional guide and a starting point for understanding how different factors can influence product popularity trends in a simulated market environment.\n",
        "\n",
        "In this assignment, you will:\n",
        "\n",
        "1. **Run a Product Popularity Simulation**: Utilise the `ProductPopularitySimulation` class provided within this notebook to generate simulated data on product popularity over time. This class allows you to adjust parameters such as initial popularity, growth rate, market events, and promotional impacts to see how they affect product visibility and consumer interest.\n",
        "\n",
        "2. **Visualise the Results**: Use the `plot_popularity` function to graph the simulated popularity data of products. This function includes options to highlight significant promotional events or market changes, providing a clear visual representation of their effects on product popularity.\n",
        "\n",
        "**Objectives**:\n",
        "- Understand how various factors such as promotions and market changes can impact product popularity.\n",
        "- Develop practical skills in generating and interpreting data visualisations.\n",
        "- Enhance your Python programming skills, particularly focusing on the use of data visualisation libraries like Matplotlib.\n",
        "\n",
        "**Using Google Colab**:\n",
        "- Google Colab provides a robust, cloud-based environment to run Python code, enabling you to execute this notebook without any local setup.\n",
        "- Ensure you save a copy of this notebook in your Google Drive to keep your changes and results.\n",
        "\n",
        "**Preparation**:\n",
        "- If you are new to Google Colab, take a moment to familiarise yourself with its features before starting.\n",
        "- Review the provided code snippets and documentation in this notebook to better understand how the simulation and plotting functions work.\n",
        "\n",
        "This notebook is designed to be both interactive and educational, helping you to grasp the nuances of market simulation and data visualisation. By engaging with this exercise, you will gain a deeper insight into the analytical techniques used in market analysis and product management. Let’s begin exploring the dynamics of product popularity through simulation.\n"
      ],
      "metadata": {
        "id": "-4hbLBReS1W0"
      }
    },
    {
      "cell_type": "code",
      "execution_count": null,
      "metadata": {
        "id": "4E-TlrJfRTvf"
      },
      "outputs": [],
      "source": [
        "!pip install git+https://github.com/teaching-repositories/simulacra.git -q"
      ]
    },
    {
      "cell_type": "code",
      "source": [
        "from simulacra.product_popularity_simulation import ProductPopularitySimulation\n",
        "import matplotlib.pyplot as plt"
      ],
      "metadata": {
        "id": "seFUVzHnRdCT"
      },
      "execution_count": null,
      "outputs": []
    },
    {
      "cell_type": "code",
      "source": [
        "def plot_demand(demand, promotion_day=None):\n",
        "    \"\"\"\n",
        "    Plots the demand simulation data with an optional marker for a marketing campaign.\n",
        "\n",
        "    Parameters:\n",
        "        demand (List[int]): A list of demand values to plot.\n",
        "        promotion_day (Optional[int]): The day a marketing campaign starts, marked on the plot.\n",
        "    \"\"\"\n",
        "    plt.figure(figsize=(10, 6))\n",
        "    plt.plot(demand, label='Product Demand')\n",
        "    if promotion_day is not None:\n",
        "        plt.axvline(x=promotion_day, color='blue', linestyle='--', label='Marketing Campaign Start')\n",
        "    plt.xlabel('Days')\n",
        "    plt.ylabel('Demand Units')\n",
        "    plt.title('Product Popularity Simulation')\n",
        "    plt.legend()\n",
        "    plt.show()"
      ],
      "metadata": {
        "id": "dPkx1nqERrHd"
      },
      "execution_count": null,
      "outputs": []
    },
    {
      "cell_type": "code",
      "source": [
        "sim = ProductPopularitySimulation(start_demand=500, days=180, growth_rate=0.02,\n",
        "                                      marketing_impact=0.1, promotion_day=30, promotion_effectiveness=0.5)\n",
        "demand = sim.run_simulation()\n",
        "plot_demand(demand, sim.promotion_day)"
      ],
      "metadata": {
        "id": "j9Qq-YqJRuNH"
      },
      "execution_count": null,
      "outputs": []
    }
  ]
}