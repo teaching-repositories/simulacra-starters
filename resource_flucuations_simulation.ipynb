{
  "nbformat": 4,
  "nbformat_minor": 0,
  "metadata": {
    "colab": {
      "private_outputs": true,
      "provenance": [],
      "authorship_tag": "ABX9TyPcKXEHORtJbZHpru+wrkmS",
      "include_colab_link": true
    },
    "kernelspec": {
      "name": "python3",
      "display_name": "Python 3"
    },
    "language_info": {
      "name": "python"
    }
  },
  "cells": [
    {
      "cell_type": "markdown",
      "metadata": {
        "id": "view-in-github",
        "colab_type": "text"
      },
      "source": [
        "<a href=\"https://colab.research.google.com/github/teaching-repositories/simulacra-starters/blob/main/resource_flucuations_simulation.ipynb\" target=\"_parent\"><img src=\"https://colab.research.google.com/assets/colab-badge.svg\" alt=\"Open In Colab\"/></a>"
      ]
    },
    {
      "cell_type": "markdown",
      "source": [
        "### Resource Fluctuations Starter\n",
        "\n",
        "Welcome to this interactive Google Colab notebook designed to assist you with your assignment on analysing and visualising resource fluctuations in a simulated environment. This notebook is intended to serve as both an educational tool and a practical starting point for examining how various factors influence resource availability and management over time.\n",
        "\n",
        "In this notebook, you will:\n",
        "\n",
        "1. **Run a Resource Fluctuations Simulation**: Utilise the `ResourceFluctuationsSimulation` class provided within this notebook to generate simulated data on resource levels across different scenarios. This class allows you to manipulate parameters such as initial resource levels, consumption rates, replenishment rates, and external impacts, enabling you to observe how these variables affect overall resource sustainability.\n",
        "\n",
        "2. **Visualise the Results**: Employ the `plot_resources` function to graph the changes in resource levels over time. This function includes capabilities to annotate significant events or interventions, visually demonstrating their impact on resource trends.\n",
        "\n",
        "**Objectives**:\n",
        "- Analyse the effects of consumption patterns, replenishment strategies, and external events on resource levels.\n",
        "- Develop skills in creating and interpreting dynamic visualisations that reflect changes in real-world scenarios.\n",
        "- Enhance your Python programming proficiency, with a particular focus on utilising libraries for effective data visualisation.\n",
        "\n",
        "**Using Google Colab**:\n",
        "- Google Colab provides a powerful, cloud-based platform to execute Python code, which means you can work on this notebook without requiring any specific setups on your local machine.\n",
        "- Remember to save a copy of this notebook in your Google Drive to ensure that all your modifications and data are preserved.\n",
        "\n",
        "**Preparation**:\n",
        "- Take a moment to get acquainted with Google Colab’s user interface and features if this is your first time using it.\n",
        "- Carefully review the code snippets and the accompanying explanatory texts in this notebook to fully understand how the simulation and plotting functions are structured and operated.\n"
      ],
      "metadata": {
        "id": "eZpqyJkbU43V"
      }
    },
    {
      "cell_type": "code",
      "execution_count": null,
      "metadata": {
        "id": "yLciWoraSagH"
      },
      "outputs": [],
      "source": [
        "!pip install git+https://github.com/teaching-repositories/simulacra.git -q"
      ]
    },
    {
      "cell_type": "code",
      "source": [
        "from simulacra.resource_fluctuations_simulation import ResourceFluctuationsSimulation\n",
        "import matplotlib.pyplot as plt"
      ],
      "metadata": {
        "id": "9g9OiSvYShM-"
      },
      "execution_count": null,
      "outputs": []
    },
    {
      "cell_type": "code",
      "source": [
        "def plot_prices(prices, supply_disruption_day=None):\n",
        "    \"\"\"\n",
        "    Plots the prices from a simulation with an optional vertical line marking a supply disruption.\n",
        "\n",
        "    Parameters:\n",
        "        prices (List[float]): A list of prices to be plotted.\n",
        "        supply_disruption_day (Optional[int]): The day on which the supply disruption occurs (defaults to None).\n",
        "\n",
        "    Returns:\n",
        "        None\n",
        "    \"\"\"\n",
        "    plt.figure(figsize=(10, 6))\n",
        "    plt.plot(prices, label='Resource Price')\n",
        "    if supply_disruption_day is not None:\n",
        "        plt.axvline(x=supply_disruption_day, color='r', linestyle='--', label='Supply Disruption')\n",
        "    plt.xlabel('Days')\n",
        "    plt.ylabel('Price')\n",
        "    plt.title('Resource Price Simulation')\n",
        "    plt.legend()\n",
        "    plt.show()"
      ],
      "metadata": {
        "id": "xk-CtCQmTJN7"
      },
      "execution_count": null,
      "outputs": []
    },
    {
      "cell_type": "code",
      "source": [
        "sim = ResourceFluctuationsSimulation(start_price=100, days=250, volatility=0.015,\n",
        "                             drift=0.0003, supply_disruption_day=100, disruption_severity=0.3)\n",
        "prices = sim.run_simulation()\n",
        "plot_prices(prices, sim.supply_disruption_day)"
      ],
      "metadata": {
        "id": "BxWZQoMHUg_o"
      },
      "execution_count": null,
      "outputs": []
    }
  ]
}